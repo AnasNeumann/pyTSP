{
 "cells": [
  {
   "cell_type": "markdown",
   "metadata": {},
   "source": [
    "A simple Travelling Salesman Problem to solve (optimize) with IBM Cplex for learning purposes\n",
    "\n",
    "_\"Given a list of cities and the distances between each pair of cities, what is the shortest possible route that visits each city exactly once and returns to the origin city?\"_\n",
    "\n",
    "*(Wikipedia.org, 2023)* - https://en.wikipedia.org/wiki/Travelling_salesman_problem\n",
    "\n",
    "![problem-studied](./documentation/problem.png)"
   ]
  },
  {
   "cell_type": "markdown",
   "metadata": {},
   "source": [
    "# BEFORE CODING: INSTALL CPLEX AND SETUP YOUR PYTHON ENVIRONEMENT\n",
    "0. Make sure you have Python **3.7** or **3.8** installed (_Cplex currently do not support newer versions!_)\n",
    "1. Download Cplex from **IBM official website** and install it: https://www.ibm.com/products/ilog-cplex-optimization-studio/cplex-optimizer\n",
    "2. Go to the `CPLEX_HOME/cplex/python/3.8/x86-64_osx/cplex/` (_choose the right python version and OS platform here!_) sub-folder inside the Cplex install folder (`/Applications/CPLEX_Studio210` in MacOS) and run: `python setup.py install --home PATH_TO_PYTHON_PACKAGES/cplex` or `python3.8 setup.py install --home PATH_TO_PYTHON_PACKAGES/cplex` if you have several versions of python installed\n",
    "\n",
    "--> _for example:_ **PATH_TO_PYTHON_PACKAGES**=`/Library/Frameworks/Python.framework/Versions/3.8/lib/python3.8/site-packages`\n",
    "\n",
    "3. **Alternative:** Install cplex using `pip install cplex dcplex` or `pip3.8 install cplex dcplex` if you have several versions of cplex installed"
   ]
  },
  {
   "cell_type": "code",
   "execution_count": 51,
   "metadata": {},
   "outputs": [],
   "source": [
    "# 0.A IMPORT ALL USED LIBRARIES\n",
    "from random import randint\n",
    "import numpy as np\n",
    "#from docplex.mp.model import Model\n",
    "import cplex\n",
    "from cplex import Cplex\n",
    "from itertools import combinations"
   ]
  },
  {
   "cell_type": "code",
   "execution_count": 53,
   "metadata": {},
   "outputs": [],
   "source": [
    "# 0.B CONFIGURE THE PROBLEM\n",
    "NBR_CITIES = 5\n",
    "MIN_DISTANCE_BETWEEN_CITIES = 1\n",
    "MAX_DISTANCE_BETWEEN_CITIES = 15\n",
    "\n",
    "# 0.C CONFIGURE CPLEX\n",
    "COMPUTING_TIME_LIMIT = 300 #seconds\n",
    "MEMORY_LIMIT = 1024 #Gb\n",
    "NODE_LIMIT = 1000 #size of the branch&bound/cut decision tree\n",
    "MIP_TOLERANCE = 0 #%\n",
    "MAX_NBR_THREADS = 4"
   ]
  },
  {
   "cell_type": "code",
   "execution_count": 54,
   "metadata": {},
   "outputs": [
    {
     "name": "stdout",
     "output_type": "stream",
     "text": [
      "[[ 0 11  3  3  5]\n",
      " [11  0  4  4  8]\n",
      " [ 3  4  0  9 12]\n",
      " [ 3  4  9  0 14]\n",
      " [ 5  8 12 14  0]]\n",
      "1\n"
     ]
    }
   ],
   "source": [
    "# I. BUILD A RANDOM TSP INSTANCE \n",
    "def build_random_instance(nbr_cities=6, min_distance=1, max_distance=15):\n",
    "    start = randint(0, nbr_cities-1) # 1. random generate the starting city\n",
    "    distances = np.random.uniform(min_distance, max_distance, (nbr_cities, nbr_cities)).astype(int) # 2. random generate a matrix of (integer) paths between cities\n",
    "    distances = np.triu(distances, k=1)\n",
    "    distances += distances.T # 3. the distance between city a -> city b should be equal to the between city b -> city a\n",
    "    np.fill_diagonal(distances, 0) # 4. replace all distance for a city to itself (the diagonal) to 0 \n",
    "    return distances, start\n",
    "\n",
    "distances, start = build_random_instance(NBR_CITIES, MIN_DISTANCE_BETWEEN_CITIES, MAX_DISTANCE_BETWEEN_CITIES)\n",
    "print(distances)\n",
    "print(start)"
   ]
  },
  {
   "cell_type": "code",
   "execution_count": 55,
   "metadata": {},
   "outputs": [
    {
     "name": "stdout",
     "output_type": "stream",
     "text": [
      "['path_0_1', 'path_0_2', 'path_0_3', 'path_0_4', 'path_1_0', 'path_1_2', 'path_1_3', 'path_1_4', 'path_2_0', 'path_2_1', 'path_2_3', 'path_2_4', 'path_3_0', 'path_3_1', 'path_3_2', 'path_3_4', 'path_4_0', 'path_4_1', 'path_4_2', 'path_4_3']\n"
     ]
    }
   ],
   "source": [
    "# II. BUILD A CPLEX MODEL WITH DECISIONS VARIABLES, THE FIRST TWO CONSTRAINTS, AND A OBJECTIVE FUNCTION\n",
    "def build_model(distances, nbr_cities=6):\n",
    "    m = Cplex()\n",
    "\n",
    "    # 1. Create an array of variables with names and lower/upper bounds\n",
    "    names = [f\"path_{i}_{j}\" for i in range(nbr_cities) for j in range(nbr_cities) if j != i]\n",
    "    print(names)\n",
    "    types = [m.variables.type.binary] * len(names)\n",
    "    lb = [0] * len(names)\n",
    "    up = [1] * len(names)\n",
    "    m.variables.add(names=names, types=types, lb=lb, ub=up) \n",
    "\n",
    "    # 2. Create the min objective function\n",
    "    for i in range(nbr_cities-1):\n",
    "        for j in range(i+1, nbr_cities):\n",
    "            m.objective.set_linear(f\"path_{i}_{j}\", int(distances[i][j]))\n",
    "            m.objective.set_linear(f\"path_{j}_{i}\", int(distances[j][i]))\n",
    "    m.objective.set_sense(m.objective.sense.minimize)\n",
    "\n",
    "    # 3. Create the first two constraint: exactly on selected path FROM and TO each city\n",
    "    for i in range(nbr_cities):\n",
    "        paths_from_i = [f\"path_{i}_{j}\" for j in range(nbr_cities) if j != i]\n",
    "        paths_to_i = [f\"path_{j}_{i}\" for j in range(nbr_cities) if j != i]\n",
    "        m.linear_constraints.add(lin_expr=[cplex.SparsePair(ind=paths_from_i, val=[1]*len(paths_from_i))], senses=['E'], rhs=[1])\n",
    "        m.linear_constraints.add(lin_expr=[cplex.SparsePair(ind=paths_to_i, val=[1]*len(paths_to_i))], senses=['E'], rhs=[1])\n",
    "\n",
    "    # 4. Apply the CPLEX runtime configuration\n",
    "    m.parameters.timelimit.set(COMPUTING_TIME_LIMIT)\n",
    "    m.parameters.workmem.set(MEMORY_LIMIT)\n",
    "    m.parameters.mip.limits.nodes.set(NODE_LIMIT)\n",
    "    m.parameters.mip.tolerances.mipgap.set(MIP_TOLERANCE)\n",
    "    m.parameters.threads.set(MAX_NBR_THREADS)\n",
    "    return m\n",
    "\n",
    "model = build_model(distances, NBR_CITIES)"
   ]
  },
  {
   "cell_type": "markdown",
   "metadata": {},
   "source": [
    "![calcul-of-subsets](./documentation/calcul.png)"
   ]
  },
  {
   "cell_type": "code",
   "execution_count": 56,
   "metadata": {},
   "outputs": [
    {
     "name": "stdout",
     "output_type": "stream",
     "text": [
      "['path_0_1', 'path_1_0']\n",
      "1\n",
      "['path_0_2', 'path_2_0']\n",
      "1\n",
      "['path_0_3', 'path_3_0']\n",
      "1\n",
      "['path_0_4', 'path_4_0']\n",
      "1\n",
      "['path_1_2', 'path_2_1']\n",
      "1\n",
      "['path_1_3', 'path_3_1']\n",
      "1\n",
      "['path_1_4', 'path_4_1']\n",
      "1\n",
      "['path_2_3', 'path_3_2']\n",
      "1\n",
      "['path_2_4', 'path_4_2']\n",
      "1\n",
      "['path_3_4', 'path_4_3']\n",
      "1\n",
      "['path_0_1', 'path_0_2', 'path_1_0', 'path_1_2', 'path_2_0', 'path_2_1']\n",
      "2\n",
      "['path_0_1', 'path_0_3', 'path_1_0', 'path_1_3', 'path_3_0', 'path_3_1']\n",
      "2\n",
      "['path_0_1', 'path_0_4', 'path_1_0', 'path_1_4', 'path_4_0', 'path_4_1']\n",
      "2\n",
      "['path_0_2', 'path_0_3', 'path_2_0', 'path_2_3', 'path_3_0', 'path_3_2']\n",
      "2\n",
      "['path_0_2', 'path_0_4', 'path_2_0', 'path_2_4', 'path_4_0', 'path_4_2']\n",
      "2\n",
      "['path_0_3', 'path_0_4', 'path_3_0', 'path_3_4', 'path_4_0', 'path_4_3']\n",
      "2\n",
      "['path_1_2', 'path_1_3', 'path_2_1', 'path_2_3', 'path_3_1', 'path_3_2']\n",
      "2\n",
      "['path_1_2', 'path_1_4', 'path_2_1', 'path_2_4', 'path_4_1', 'path_4_2']\n",
      "2\n",
      "['path_1_3', 'path_1_4', 'path_3_1', 'path_3_4', 'path_4_1', 'path_4_3']\n",
      "2\n",
      "['path_2_3', 'path_2_4', 'path_3_2', 'path_3_4', 'path_4_2', 'path_4_3']\n",
      "2\n",
      "['path_0_1', 'path_0_2', 'path_0_3', 'path_1_0', 'path_1_2', 'path_1_3', 'path_2_0', 'path_2_1', 'path_2_3', 'path_3_0', 'path_3_1', 'path_3_2']\n",
      "3\n",
      "['path_0_1', 'path_0_2', 'path_0_4', 'path_1_0', 'path_1_2', 'path_1_4', 'path_2_0', 'path_2_1', 'path_2_4', 'path_4_0', 'path_4_1', 'path_4_2']\n",
      "3\n",
      "['path_0_1', 'path_0_3', 'path_0_4', 'path_1_0', 'path_1_3', 'path_1_4', 'path_3_0', 'path_3_1', 'path_3_4', 'path_4_0', 'path_4_1', 'path_4_3']\n",
      "3\n",
      "['path_0_2', 'path_0_3', 'path_0_4', 'path_2_0', 'path_2_3', 'path_2_4', 'path_3_0', 'path_3_2', 'path_3_4', 'path_4_0', 'path_4_2', 'path_4_3']\n",
      "3\n",
      "['path_1_2', 'path_1_3', 'path_1_4', 'path_2_1', 'path_2_3', 'path_2_4', 'path_3_1', 'path_3_2', 'path_3_4', 'path_4_1', 'path_4_2', 'path_4_3']\n",
      "3\n"
     ]
    }
   ],
   "source": [
    "# III. DFJ CONSTRAINTS TO AVOID SUB-TOURS\n",
    "def generate_subsets(nbr_cities=6):\n",
    "    subsets = []\n",
    "    for size in range(2,nbr_cities):\n",
    "        subsets.extend(combinations(range(nbr_cities), size))\n",
    "    return subsets\n",
    "\n",
    "def add_last_constraint(m, nbr_cities=6):\n",
    "    subsets = generate_subsets(nbr_cities)\n",
    "    for s in subsets:\n",
    "        paths = [f\"path_{i}_{j}\" for i in s for j in s if j != i]\n",
    "        print(paths)\n",
    "        print(len(s)-1)\n",
    "        m.linear_constraints.add(lin_expr=[cplex.SparsePair(ind=paths, val=[1]*len(paths))], senses=['L'], rhs=[len(s)-1])\n",
    "    return m\n",
    "\n",
    "model = add_last_constraint(model, NBR_CITIES)"
   ]
  },
  {
   "cell_type": "code",
   "execution_count": 57,
   "metadata": {},
   "outputs": [
    {
     "name": "stdout",
     "output_type": "stream",
     "text": [
      "\n",
      "Constraints:\n",
      "path_0_1 + path_0_2 + path_0_3 + path_0_4 = 1.0\n",
      "path_1_0 + path_2_0 + path_3_0 + path_4_0 = 1.0\n",
      "path_1_0 + path_1_2 + path_1_3 + path_1_4 = 1.0\n",
      "path_0_1 + path_2_1 + path_3_1 + path_4_1 = 1.0\n",
      "path_2_0 + path_2_1 + path_2_3 + path_2_4 = 1.0\n",
      "path_0_2 + path_1_2 + path_3_2 + path_4_2 = 1.0\n",
      "path_3_0 + path_3_1 + path_3_2 + path_3_4 = 1.0\n",
      "path_0_3 + path_1_3 + path_2_3 + path_4_3 = 1.0\n",
      "path_4_0 + path_4_1 + path_4_2 + path_4_3 = 1.0\n",
      "path_0_4 + path_1_4 + path_2_4 + path_3_4 = 1.0\n",
      "path_0_1 + path_1_0 <= 1.0\n",
      "path_0_2 + path_2_0 <= 1.0\n",
      "path_0_3 + path_3_0 <= 1.0\n",
      "path_0_4 + path_4_0 <= 1.0\n",
      "path_1_2 + path_2_1 <= 1.0\n",
      "path_1_3 + path_3_1 <= 1.0\n",
      "path_1_4 + path_4_1 <= 1.0\n",
      "path_2_3 + path_3_2 <= 1.0\n",
      "path_2_4 + path_4_2 <= 1.0\n",
      "path_3_4 + path_4_3 <= 1.0\n",
      "path_0_1 + path_0_2 + path_1_0 + path_1_2 + path_2_0 + path_2_1 <= 2.0\n",
      "path_0_1 + path_0_3 + path_1_0 + path_1_3 + path_3_0 + path_3_1 <= 2.0\n",
      "path_0_1 + path_0_4 + path_1_0 + path_1_4 + path_4_0 + path_4_1 <= 2.0\n",
      "path_0_2 + path_0_3 + path_2_0 + path_2_3 + path_3_0 + path_3_2 <= 2.0\n",
      "path_0_2 + path_0_4 + path_2_0 + path_2_4 + path_4_0 + path_4_2 <= 2.0\n",
      "path_0_3 + path_0_4 + path_3_0 + path_3_4 + path_4_0 + path_4_3 <= 2.0\n",
      "path_1_2 + path_1_3 + path_2_1 + path_2_3 + path_3_1 + path_3_2 <= 2.0\n",
      "path_1_2 + path_1_4 + path_2_1 + path_2_4 + path_4_1 + path_4_2 <= 2.0\n",
      "path_1_3 + path_1_4 + path_3_1 + path_3_4 + path_4_1 + path_4_3 <= 2.0\n",
      "path_2_3 + path_2_4 + path_3_2 + path_3_4 + path_4_2 + path_4_3 <= 2.0\n",
      "path_0_1 + path_0_2 + path_0_3 + path_1_0 + path_1_2 + path_1_3 + path_2_0 + path_2_1 + path_2_3 + path_3_0 + path_3_1 + path_3_2 <= 3.0\n",
      "path_0_1 + path_0_2 + path_0_4 + path_1_0 + path_1_2 + path_1_4 + path_2_0 + path_2_1 + path_2_4 + path_4_0 + path_4_1 + path_4_2 <= 3.0\n",
      "path_0_1 + path_0_3 + path_0_4 + path_1_0 + path_1_3 + path_1_4 + path_3_0 + path_3_1 + path_3_4 + path_4_0 + path_4_1 + path_4_3 <= 3.0\n",
      "path_0_2 + path_0_3 + path_0_4 + path_2_0 + path_2_3 + path_2_4 + path_3_0 + path_3_2 + path_3_4 + path_4_0 + path_4_2 + path_4_3 <= 3.0\n",
      "path_1_2 + path_1_3 + path_1_4 + path_2_1 + path_2_3 + path_2_4 + path_3_1 + path_3_2 + path_3_4 + path_4_1 + path_4_2 + path_4_3 <= 3.0\n",
      "\n",
      "Objective:\n",
      "Minimize 11.0*path_0_1 + 3.0*path_0_2 + 3.0*path_0_3 + 5.0*path_0_4 + 11.0*path_1_0 + 4.0*path_1_2 + 4.0*path_1_3 + 8.0*path_1_4 + 3.0*path_2_0 + 4.0*path_2_1 + 9.0*path_2_3 + 12.0*path_2_4 + 3.0*path_3_0 + 4.0*path_3_1 + 9.0*path_3_2 + 14.0*path_3_4 + 5.0*path_4_0 + 8.0*path_4_1 + 12.0*path_4_2 + 14.0*path_4_3\n"
     ]
    }
   ],
   "source": [
    "# IV. PRINT THE FINAL MODEL\n",
    "print(\"\\nConstraints:\")\n",
    "for i in range(model.linear_constraints.get_num()):\n",
    "    row = model.linear_constraints.get_rows(i)\n",
    "    senses = \"<=\" if model.linear_constraints.get_senses(i) == 'L' else \">=\" if model.linear_constraints.get_senses(i) == 'G' else \"=\"\n",
    "    rhs = model.linear_constraints.get_rhs(i)\n",
    "    constraint_expr = \" + \".join(f\"{model.variables.get_names(var)}\" for var, _ in zip(row.ind, row.val))\n",
    "    print(f\"{constraint_expr} {senses} {rhs}\")\n",
    "\n",
    "print(\"\\nObjective:\")\n",
    "objective = model.objective.get_linear()\n",
    "obj_expr = \" + \".join(f\"{coef}*{var_name}\" for coef, var_name in zip(objective, model.variables.get_names()))\n",
    "print(f\"Minimize {obj_expr}\")"
   ]
  },
  {
   "cell_type": "code",
   "execution_count": 72,
   "metadata": {},
   "outputs": [
    {
     "name": "stdout",
     "output_type": "stream",
     "text": [
      "Version identifier: 22.1.0.0 | 2022-03-27 | 54982fbec\n",
      "CPXPARAM_Read_DataCheck                          1\n",
      "CPXPARAM_Threads                                 4\n",
      "CPXPARAM_MIP_Limits_Nodes                        1000\n",
      "CPXPARAM_TimeLimit                               300\n",
      "CPXPARAM_WorkMem                                 1024\n",
      "CPXPARAM_MIP_Tolerances_MIPGap                   0\n",
      "\n",
      "Root node processing (before b&c):\n",
      "  Real time             =    0.00 sec. (0.00 ticks)\n",
      "Parallel b&c, 4 threads:\n",
      "  Real time             =    0.00 sec. (0.00 ticks)\n",
      "  Sync time (average)   =    0.00 sec.\n",
      "  Wait time (average)   =    0.00 sec.\n",
      "                          ------------\n",
      "Total (root+branch&cut) =    0.00 sec. (0.00 ticks)\n",
      "OBJECTIVE FUNCTION VALUE:  28.0\n",
      "path_0_3: 1.0\n",
      "path_1_2: 1.0\n",
      "path_2_4: 1.0\n",
      "path_3_1: 1.0\n",
      "path_4_0: 1.0\n",
      "COMPLETE PATH: City_1 -> (4) -> City_2 -> (12) -> City_4 -> (5) -> City_0 -> (3) -> City_3 -> (4) -> City_1\n"
     ]
    }
   ],
   "source": [
    "# V. RUN THE MODEL AND DISPLAY THE FINAL SOLUTION\n",
    "model.solve()\n",
    "\n",
    "# 1. Display the value of the objective function\n",
    "print(\"OBJECTIVE FUNCTION VALUE: \", model.solution.get_objective_value())\n",
    "\n",
    "# 2. Dumb display of final value of each decision variable\n",
    "def dumb_display(model):\n",
    "    for name, value in zip(model.variables.get_names(), model.solution.get_values()):\n",
    "        if(value>=1):\n",
    "            print(f\"{name}: {value}\")\n",
    "\n",
    "dumb_display(model)\n",
    "\n",
    "# 3. Smart display the complete seletected path\n",
    "def search_next_city(var_names, var_values, current_city=0, nbr_cities=6):\n",
    "    paths_from_current_city = [f\"path_{current_city}_{i}\" for i in range(nbr_cities) if i != current_city]\n",
    "    for name, value in zip(var_names, var_values):\n",
    "        if name in paths_from_current_city and value >= 1:\n",
    "            return int(name.split(\"_\")[2])\n",
    "    return -1\n",
    "\n",
    "def display_path(model, distances, start=0, nbr_cities=6):\n",
    "    first_itr = True\n",
    "    current_city = start\n",
    "    next_city = -1\n",
    "    print(\"COMPLETE PATH:\", end=' ')\n",
    "    while first_itr or (next_city != -1 and current_city != start):\n",
    "        next_city = search_next_city(model.variables.get_names(), model.solution.get_values(), current_city, nbr_cities)\n",
    "        if(next_city != -1):\n",
    "            print(\"City_\"+str(current_city)+\" -> (\"+str(distances[current_city][next_city])+\") ->\", end=' ')\n",
    "            current_city = next_city\n",
    "        else:\n",
    "            print(\"City_\"+str(current_city), end=' ')\n",
    "        first_itr = False\n",
    "    print(\"City_\"+str(start))\n",
    "\n",
    "display_path(model, distances, start, NBR_CITIES)"
   ]
  }
 ],
 "metadata": {
  "kernelspec": {
   "display_name": "Python 3",
   "language": "python",
   "name": "python3"
  },
  "language_info": {
   "codemirror_mode": {
    "name": "ipython",
    "version": 3
   },
   "file_extension": ".py",
   "mimetype": "text/x-python",
   "name": "python",
   "nbconvert_exporter": "python",
   "pygments_lexer": "ipython3",
   "version": "3.8.5"
  }
 },
 "nbformat": 4,
 "nbformat_minor": 2
}
