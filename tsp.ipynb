{
 "cells": [
  {
   "cell_type": "markdown",
   "metadata": {},
   "source": [
    "A simple Travelling Salesman Problem to solve (optimize) with IBM Cplex for learning purposes\n",
    "\n",
    "_\"Given a list of cities and the distances between each pair of cities, what is the shortest possible route that visits each city exactly once and returns to the origin city?\"_\n",
    "\n",
    "*(Wikipedia.org, 2023)* - https://en.wikipedia.org/wiki/Travelling_salesman_problem\n",
    "\n",
    "![problem-studied](./documentation/problem.png)"
   ]
  },
  {
   "cell_type": "markdown",
   "metadata": {},
   "source": [
    "# BEFORE CODING: INSTALL CPLEX AND SETUP YOUR PYTHON ENVIRONEMENT\n",
    "0. Make sure you have Python **3.7** or **3.8** installed (_Cplex currently do not support newer versions!_)\n",
    "1. Download Cplex from **IBM official website** and install it: https://www.ibm.com/products/ilog-cplex-optimization-studio/cplex-optimizer\n",
    "2. Go to the `CPLEX_HOME/cplex/python/3.8/x86-64_osx/cplex/` (_choose the right python version and OS platform here!_) sub-folder inside the Cplex install folder (`/Applications/CPLEX_Studio210` in MacOS) and run: `python setup.py install --home PATH_TO_PYTHON_PACKAGES/cplex` or `python3.8 setup.py install --home PATH_TO_PYTHON_PACKAGES/cplex` if you have several versions of python installed\n",
    "\n",
    "--> _for example:_ **PATH_TO_PYTHON_PACKAGES**=`/Library/Frameworks/Python.framework/Versions/3.8/lib/python3.8/site-packages`\n",
    "\n",
    "3. **Alternative:** Install cplex using `pip install cplex dcplex` or `pip3.8 install cplex dcplex` if you have several versions of cplex installed"
   ]
  },
  {
   "cell_type": "code",
   "execution_count": 5,
   "metadata": {},
   "outputs": [],
   "source": [
    "#0. IMPORT ALL USED LIBRARIES\n",
    "from random import randint\n",
    "import numpy as np\n",
    "from docplex.mp.model import Model\n",
    "import cplex"
   ]
  },
  {
   "cell_type": "code",
   "execution_count": 4,
   "metadata": {},
   "outputs": [
    {
     "name": "stdout",
     "output_type": "stream",
     "text": [
      "[[ 0  7  4 11 11]\n",
      " [ 7  0 10  8  7]\n",
      " [ 4 10  0  4  1]\n",
      " [11  8  4  0  6]\n",
      " [11  7  1  6  0]]\n",
      "2\n"
     ]
    }
   ],
   "source": [
    "# I. BUILD A RANDOM TSP INSTANCE \n",
    "def build_random_instance(nbr_cities=6, min_distance=1, max_distance=15):\n",
    "    start = randint(0, nbr_cities-1) # 1. random generate the starting city\n",
    "    distances = np.random.uniform(min_distance, max_distance, (nbr_cities, nbr_cities)).astype(int) # 2. random generate a matrix of (integer) paths between cities\n",
    "    distances = np.triu(distances, k=1)\n",
    "    distances += distances.T # 3. the distance between city a -> city b should be equal to the between city b -> city a\n",
    "    np.fill_diagonal(distances, 0) # 4. replace all distance for a city to itself (the diagonal) to 0 \n",
    "    return distances, start\n",
    "\n",
    "distances, start = build_random_instance(5,1,15)\n",
    "print(distances)\n",
    "print(start)"
   ]
  },
  {
   "cell_type": "code",
   "execution_count": 8,
   "metadata": {},
   "outputs": [
    {
     "name": "stdout",
     "output_type": "stream",
     "text": [
      "Model: TSP\n",
      " - number of variables: 1\n",
      "   - binary=0, integer=0, continuous=1\n",
      " - number of constraints: 1\n",
      "   - linear=1\n",
      " - parameters: defaults\n",
      " - objective: minimize\n",
      " - problem type is: LP\n",
      "objective: 6.000\n",
      "status: OPTIMAL_SOLUTION(2)\n",
      "  x=2.000\n"
     ]
    }
   ],
   "source": [
    "# II. BUILD THE CPLEX MODEL\n",
    "#def build_model(nbr_cities=6):\n",
    "#    selected_paths = [m.]\n",
    "m = Model(name='TSP') # 1. create a model with a name\n",
    "x = m.continuous_var(name=\"x\", lb=0)\n",
    "c1 = m.add_constraint(x >= 2, ctname=\"const1\")\n",
    "m.set_objective(\"min\", 3*x)\n",
    "m.print_information()\n",
    "m.solve()\n",
    "m.print_solution()"
   ]
  },
  {
   "cell_type": "markdown",
   "metadata": {},
   "source": [
    "![calcul-of-subsets](./documentation/calcul.png)"
   ]
  }
 ],
 "metadata": {
  "kernelspec": {
   "display_name": "Python 3",
   "language": "python",
   "name": "python3"
  },
  "language_info": {
   "codemirror_mode": {
    "name": "ipython",
    "version": 3
   },
   "file_extension": ".py",
   "mimetype": "text/x-python",
   "name": "python",
   "nbconvert_exporter": "python",
   "pygments_lexer": "ipython3",
   "version": "3.8.5"
  }
 },
 "nbformat": 4,
 "nbformat_minor": 2
}
