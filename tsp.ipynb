{
 "cells": [
  {
   "cell_type": "markdown",
   "metadata": {},
   "source": [
    "A simple Travelling Salesman Problem to solve (optimize) with IBM Cplex for learning purposes\n",
    "\n",
    "_\"Given a list of cities and the distances between each pair of cities, what is the shortest possible route that visits each city exactly once and returns to the origin city?\"_\n",
    "\n",
    "*(Wikipedia.org, 2023)* - https://en.wikipedia.org/wiki/Travelling_salesman_problem\n",
    "\n",
    "![problem-studied](./documentation/problem.png)"
   ]
  },
  {
   "cell_type": "markdown",
   "metadata": {},
   "source": [
    "# BEFORE CODING: INSTALL CPLEX AND SETUP YOUR PYTHON ENVIRONEMENT\n",
    "0. Make sure you have Python **3.7** or **3.8** installed (_Cplex currently do not support newer versions!_)\n",
    "1. Download Cplex from **IBM official website** and install it: https://www.ibm.com/products/ilog-cplex-optimization-studio/cplex-optimizer\n",
    "2. Go to the `CPLEX_HOME/cplex/python/3.8/x86-64_osx/cplex/` (_choose the right python version and OS platform here!_) sub-folder inside the Cplex install folder (`/Applications/CPLEX_Studio210` in MacOS) and run: `python setup.py install --home PATH_TO_PYTHON_PACKAGES/cplex` or `python3.8 setup.py install --home PATH_TO_PYTHON_PACKAGES/cplex` if you have several versions of python installed\n",
    "\n",
    "--> _for example:_ **PATH_TO_PYTHON_PACKAGES**=`/Library/Frameworks/Python.framework/Versions/3.8/lib/python3.8/site-packages`\n",
    "\n",
    "3. **Alternative:** Install cplex using `pip install cplex dcplex` or `pip3.8 install cplex dcplex` if you have several versions of cplex installed"
   ]
  },
  {
   "cell_type": "code",
   "execution_count": 22,
   "metadata": {},
   "outputs": [],
   "source": [
    "#0. IMPORT ALL USED LIBRARIES\n",
    "from random import randint\n",
    "import numpy as np\n",
    "from docplex.mp.model import Model\n",
    "import cplex"
   ]
  },
  {
   "cell_type": "code",
   "execution_count": 12,
   "metadata": {},
   "outputs": [
    {
     "name": "stdout",
     "output_type": "stream",
     "text": [
      "[[ 0.          2.33543911  8.79022696 10.92399927  4.20015584]\n",
      " [ 2.33543911  0.          8.13175513  7.72822447 14.9250001 ]\n",
      " [ 8.79022696  8.13175513  0.          6.6774187   8.93846642]\n",
      " [10.92399927  7.72822447  6.6774187   0.         10.03828901]\n",
      " [ 4.20015584 14.9250001   8.93846642 10.03828901  0.        ]]\n",
      "2\n"
     ]
    }
   ],
   "source": [
    "# I. BUILD A RANDOM TSP INSTANCE \n",
    "def build_random_instance(nbr_cities=6, min_distance=1, max_distance=15):\n",
    "    start = randint(0, nbr_cities-1) # 1. random generate the starting city\n",
    "    distances = np.random.uniform(min_distance, max_distance, (nbr_cities, nbr_cities)) # 2. random generate a matrix of paths between cities\n",
    "    distances = np.triu(distances, k=1)\n",
    "    distances += distances.T # 3. the distance between city a -> city b should be equal to the between city b -> city a\n",
    "    np.fill_diagonal(distances, 0) # 4. replace all distance for a city to itself (the diagonal) to 0 \n",
    "    return distances, start\n",
    "\n",
    "distances, start = build_random_instance(5,1,15)\n",
    "print(distances)\n",
    "print(start)"
   ]
  },
  {
   "cell_type": "code",
   "execution_count": 24,
   "metadata": {},
   "outputs": [
    {
     "ename": "AttributeError",
     "evalue": "module 'cplex' has no attribute 'Cplex'",
     "output_type": "error",
     "traceback": [
      "\u001b[0;31m---------------------------------------------------------------------------\u001b[0m",
      "\u001b[0;31mAttributeError\u001b[0m                            Traceback (most recent call last)",
      "File \u001b[0;32m/Library/Frameworks/Python.framework/Versions/3.8/lib/python3.8/site-packages/docplex/mp/environment.py:348\u001b[0m, in \u001b[0;36mEnvironment.check_cplex\u001b[0;34m(self, logger)\u001b[0m\n\u001b[1;32m    347\u001b[0m \u001b[38;5;28;01mtry\u001b[39;00m:\n\u001b[0;32m--> 348\u001b[0m     \u001b[38;5;28mself\u001b[39m\u001b[38;5;241m.\u001b[39m_cplex_version \u001b[38;5;241m=\u001b[39m \u001b[43mcplex\u001b[49m\u001b[38;5;241;43m.\u001b[39;49m\u001b[43m__version__\u001b[49m\n\u001b[1;32m    349\u001b[0m \u001b[38;5;28;01mexcept\u001b[39;00m \u001b[38;5;167;01mAttributeError\u001b[39;00m:\n\u001b[1;32m    350\u001b[0m     \u001b[38;5;66;03m# older version: use an instance\u001b[39;00m\n",
      "\u001b[0;31mAttributeError\u001b[0m: module 'cplex' has no attribute '__version__'",
      "\nDuring handling of the above exception, another exception occurred:\n",
      "\u001b[0;31mAttributeError\u001b[0m                            Traceback (most recent call last)",
      "Input \u001b[0;32mIn [24]\u001b[0m, in \u001b[0;36m<cell line: 2>\u001b[0;34m()\u001b[0m\n\u001b[1;32m      1\u001b[0m \u001b[38;5;66;03m#II. BUILD THE CPLEX MODEL: variables, constraints, and objective function\u001b[39;00m\n\u001b[0;32m----> 2\u001b[0m m \u001b[38;5;241m=\u001b[39m \u001b[43mModel\u001b[49m\u001b[43m(\u001b[49m\u001b[43mname\u001b[49m\u001b[38;5;241;43m=\u001b[39;49m\u001b[38;5;124;43m'\u001b[39;49m\u001b[38;5;124;43mTSP\u001b[39;49m\u001b[38;5;124;43m'\u001b[39;49m\u001b[43m)\u001b[49m\n",
      "File \u001b[0;32m/Library/Frameworks/Python.framework/Versions/3.8/lib/python3.8/site-packages/docplex/mp/model.py:411\u001b[0m, in \u001b[0;36mModel.__init__\u001b[0;34m(self, name, context, **kwargs)\u001b[0m\n\u001b[1;32m    408\u001b[0m \u001b[38;5;28mself\u001b[39m\u001b[38;5;241m.\u001b[39m_float_meta_format \u001b[38;5;241m=\u001b[39m \u001b[38;5;124m'\u001b[39m\u001b[38;5;124m{\u001b[39m\u001b[38;5;132;01m%d\u001b[39;00m\u001b[38;5;124m:.3f}\u001b[39m\u001b[38;5;124m'\u001b[39m\n\u001b[1;32m    409\u001b[0m \u001b[38;5;28mself\u001b[39m\u001b[38;5;241m.\u001b[39m_num_printer \u001b[38;5;241m=\u001b[39m _NumPrinter(\u001b[38;5;28mself\u001b[39m\u001b[38;5;241m.\u001b[39m_float_precision)\n\u001b[0;32m--> 411\u001b[0m \u001b[38;5;28mself\u001b[39m\u001b[38;5;241m.\u001b[39m_environment \u001b[38;5;241m=\u001b[39m \u001b[38;5;28;43mself\u001b[39;49m\u001b[38;5;241;43m.\u001b[39;49m\u001b[43m_make_environment\u001b[49m\u001b[43m(\u001b[49m\u001b[43m)\u001b[49m\n\u001b[1;32m    412\u001b[0m self_env \u001b[38;5;241m=\u001b[39m \u001b[38;5;28mself\u001b[39m\u001b[38;5;241m.\u001b[39m_environment\n\u001b[1;32m    414\u001b[0m \u001b[38;5;66;03m# init context\u001b[39;00m\n",
      "File \u001b[0;32m/Library/Frameworks/Python.framework/Versions/3.8/lib/python3.8/site-packages/docplex/mp/model.py:175\u001b[0m, in \u001b[0;36mModel._make_environment\u001b[0;34m(self)\u001b[0m\n\u001b[1;32m    174\u001b[0m \u001b[38;5;28;01mdef\u001b[39;00m \u001b[38;5;21m_make_environment\u001b[39m(\u001b[38;5;28mself\u001b[39m):\n\u001b[0;32m--> 175\u001b[0m     env \u001b[38;5;241m=\u001b[39m \u001b[43mEnvironment\u001b[49m\u001b[38;5;241;43m.\u001b[39;49m\u001b[43mget_default_env\u001b[49m\u001b[43m(\u001b[49m\u001b[43m)\u001b[49m\n\u001b[1;32m    176\u001b[0m     \u001b[38;5;66;03m# rtc-28869\u001b[39;00m\n\u001b[1;32m    177\u001b[0m     env\u001b[38;5;241m.\u001b[39mnumpy_hook \u001b[38;5;241m=\u001b[39m Model\u001b[38;5;241m.\u001b[39minit_numpy\n",
      "File \u001b[0;32m/Library/Frameworks/Python.framework/Versions/3.8/lib/python3.8/site-packages/docplex/mp/environment.py:445\u001b[0m, in \u001b[0;36mEnvironment.get_default_env\u001b[0;34m()\u001b[0m\n\u001b[1;32m    442\u001b[0m \u001b[38;5;129m@staticmethod\u001b[39m\n\u001b[1;32m    443\u001b[0m \u001b[38;5;28;01mdef\u001b[39;00m \u001b[38;5;21mget_default_env\u001b[39m():\n\u001b[1;32m    444\u001b[0m     \u001b[38;5;28;01mif\u001b[39;00m \u001b[38;5;129;01mnot\u001b[39;00m Environment\u001b[38;5;241m.\u001b[39m_default_env:\n\u001b[0;32m--> 445\u001b[0m         Environment\u001b[38;5;241m.\u001b[39m_default_env \u001b[38;5;241m=\u001b[39m \u001b[43mEnvironment\u001b[49m\u001b[38;5;241;43m.\u001b[39;49m\u001b[43mmake_new_configured_env\u001b[49m\u001b[43m(\u001b[49m\u001b[43m)\u001b[49m\n\u001b[1;32m    446\u001b[0m     \u001b[38;5;28;01mreturn\u001b[39;00m Environment\u001b[38;5;241m.\u001b[39m_default_env\n",
      "File \u001b[0;32m/Library/Frameworks/Python.framework/Versions/3.8/lib/python3.8/site-packages/docplex/mp/environment.py:440\u001b[0m, in \u001b[0;36mEnvironment.make_new_configured_env\u001b[0;34m()\u001b[0m\n\u001b[1;32m    437\u001b[0m \u001b[38;5;129m@staticmethod\u001b[39m\n\u001b[1;32m    438\u001b[0m \u001b[38;5;28;01mdef\u001b[39;00m \u001b[38;5;21mmake_new_configured_env\u001b[39m():\n\u001b[1;32m    439\u001b[0m     \u001b[38;5;66;03m# returns a fresh new environment\u001b[39;00m\n\u001b[0;32m--> 440\u001b[0m     \u001b[38;5;28;01mreturn\u001b[39;00m \u001b[43mEnvironment\u001b[49m\u001b[43m(\u001b[49m\u001b[43mstart_auto_configure\u001b[49m\u001b[38;5;241;43m=\u001b[39;49m\u001b[38;5;28;43;01mTrue\u001b[39;49;00m\u001b[43m)\u001b[49m\n",
      "File \u001b[0;32m/Library/Frameworks/Python.framework/Versions/3.8/lib/python3.8/site-packages/docplex/mp/environment.py:84\u001b[0m, in \u001b[0;36mEnvironment.__init__\u001b[0;34m(self, start_auto_configure, logger)\u001b[0m\n\u001b[1;32m     81\u001b[0m \u001b[38;5;28mself\u001b[39m\u001b[38;5;241m.\u001b[39m_is64bit \u001b[38;5;241m=\u001b[39m sys\u001b[38;5;241m.\u001b[39mmaxsize \u001b[38;5;241m>\u001b[39m \u001b[38;5;241m2\u001b[39m \u001b[38;5;241m*\u001b[39m\u001b[38;5;241m*\u001b[39m \u001b[38;5;241m32\u001b[39m\n\u001b[1;32m     83\u001b[0m \u001b[38;5;28;01mif\u001b[39;00m start_auto_configure:\n\u001b[0;32m---> 84\u001b[0m     \u001b[38;5;28;43mself\u001b[39;49m\u001b[38;5;241;43m.\u001b[39;49m\u001b[43mauto_configure\u001b[49m\u001b[43m(\u001b[49m\u001b[43mlogger\u001b[49m\u001b[38;5;241;43m=\u001b[39;49m\u001b[43mlogger\u001b[49m\u001b[43m)\u001b[49m\n",
      "File \u001b[0;32m/Library/Frameworks/Python.framework/Versions/3.8/lib/python3.8/site-packages/docplex/mp/environment.py:229\u001b[0m, in \u001b[0;36mEnvironment.auto_configure\u001b[0;34m(self, logger)\u001b[0m\n\u001b[1;32m    228\u001b[0m \u001b[38;5;28;01mdef\u001b[39;00m \u001b[38;5;21mauto_configure\u001b[39m(\u001b[38;5;28mself\u001b[39m, logger\u001b[38;5;241m=\u001b[39m\u001b[38;5;28;01mNone\u001b[39;00m):\n\u001b[0;32m--> 229\u001b[0m     \u001b[38;5;28;43mself\u001b[39;49m\u001b[38;5;241;43m.\u001b[39;49m\u001b[43mcheck_cplex\u001b[49m\u001b[43m(\u001b[49m\u001b[43mlogger\u001b[49m\u001b[38;5;241;43m=\u001b[39;49m\u001b[43mlogger\u001b[49m\u001b[43m)\u001b[49m\n\u001b[1;32m    230\u001b[0m     \u001b[38;5;66;03m# check for pandas (docplex_wml studio)\u001b[39;00m\n\u001b[1;32m    231\u001b[0m     \u001b[38;5;28mself\u001b[39m\u001b[38;5;241m.\u001b[39mcheck_pandas()\n",
      "File \u001b[0;32m/Library/Frameworks/Python.framework/Versions/3.8/lib/python3.8/site-packages/docplex/mp/environment.py:351\u001b[0m, in \u001b[0;36mEnvironment.check_cplex\u001b[0;34m(self, logger)\u001b[0m\n\u001b[1;32m    348\u001b[0m     \u001b[38;5;28mself\u001b[39m\u001b[38;5;241m.\u001b[39m_cplex_version \u001b[38;5;241m=\u001b[39m cplex\u001b[38;5;241m.\u001b[39m__version__\n\u001b[1;32m    349\u001b[0m \u001b[38;5;28;01mexcept\u001b[39;00m \u001b[38;5;167;01mAttributeError\u001b[39;00m:\n\u001b[1;32m    350\u001b[0m     \u001b[38;5;66;03m# older version: use an instance\u001b[39;00m\n\u001b[0;32m--> 351\u001b[0m     cpx \u001b[38;5;241m=\u001b[39m \u001b[43mcplex\u001b[49m\u001b[38;5;241;43m.\u001b[39;49m\u001b[43mCplex\u001b[49m()\n\u001b[1;32m    352\u001b[0m     \u001b[38;5;66;03m# format: MM.mm.rr.ff e.g.e 12.6.2.0\u001b[39;00m\n\u001b[1;32m    353\u001b[0m     \u001b[38;5;28mself\u001b[39m\u001b[38;5;241m.\u001b[39m_cplex_version \u001b[38;5;241m=\u001b[39m cpx\u001b[38;5;241m.\u001b[39mget_version()\n",
      "\u001b[0;31mAttributeError\u001b[0m: module 'cplex' has no attribute 'Cplex'"
     ]
    }
   ],
   "source": [
    "#II. BUILD THE CPLEX MODEL: variables, constraints, and objective function\n",
    "m = Model(name='TSP')"
   ]
  },
  {
   "cell_type": "markdown",
   "metadata": {},
   "source": [
    "![calcul-of-subsets](./documentation/calcul.png)"
   ]
  }
 ],
 "metadata": {
  "kernelspec": {
   "display_name": "Python 3",
   "language": "python",
   "name": "python3"
  },
  "language_info": {
   "codemirror_mode": {
    "name": "ipython",
    "version": 3
   },
   "file_extension": ".py",
   "mimetype": "text/x-python",
   "name": "python",
   "nbconvert_exporter": "python",
   "pygments_lexer": "ipython3",
   "version": "3.8.5"
  }
 },
 "nbformat": 4,
 "nbformat_minor": 2
}
