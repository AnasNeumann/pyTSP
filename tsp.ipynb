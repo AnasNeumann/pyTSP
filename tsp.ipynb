{
 "cells": [
  {
   "cell_type": "markdown",
   "metadata": {},
   "source": [
    "A simple Travelling Salesman Problem to solve (optimize) with IBM Cplex for learning purposes\n",
    "\n",
    "_\"Given a list of cities and the distances between each pair of cities, what is the shortest possible route that visits each city exactly once and returns to the origin city?\"_\n",
    "\n",
    "*(Wikipedia.org, 2023)* - https://en.wikipedia.org/wiki/Travelling_salesman_problem\n",
    "\n",
    "![problem-studied](./documentation/problem.png)"
   ]
  },
  {
   "cell_type": "code",
   "execution_count": 7,
   "metadata": {},
   "outputs": [],
   "source": [
    "#0. IMPORT ALL USED LIBRARIES\n",
    "from random import randint\n",
    "import numpy as np"
   ]
  },
  {
   "cell_type": "code",
   "execution_count": 6,
   "metadata": {},
   "outputs": [
    {
     "name": "stdout",
     "output_type": "stream",
     "text": [
      "[[0.         3.62309714 2.68463527 5.03271522]\n",
      " [3.62309714 0.         6.31097702 8.1110366 ]\n",
      " [2.68463527 6.31097702 0.         5.34263084]\n",
      " [5.03271522 8.1110366  5.34263084 0.        ]]\n",
      "2\n"
     ]
    }
   ],
   "source": [
    "# I. BUILD A RANDOM TSP INSTACE \n",
    "def build_random_instance(nbr_cities=6, min_distance=1, max_distance=15):\n",
    "    start = randint(0, nbr_cities-1) # 1. random generate the starting city\n",
    "    distances = np.random.uniform(min_distance, max_distance, (nbr_cities, nbr_cities)) # 2. random generate a matrix of paths between cities\n",
    "    distances = np.triu(distances, k=1)\n",
    "    distances += distances.T # 3. the distance between city a -> city b should be equal to the between city b -> city a\n",
    "    np.fill_diagonal(distances, 0) # 4. replace all distance for a city to itself (the diagonal) to 0 \n",
    "    return distances, start\n",
    "\n",
    "distances, start = build_random_instance(4,1,10)\n",
    "print(distances)\n",
    "print(start)"
   ]
  },
  {
   "cell_type": "code",
   "execution_count": 8,
   "metadata": {},
   "outputs": [],
   "source": [
    "#II. BUILD THE CPLEX MODEL"
   ]
  },
  {
   "cell_type": "markdown",
   "metadata": {},
   "source": [
    "![calcul-of-subsets](./documentation/calcul.png)"
   ]
  }
 ],
 "metadata": {
  "kernelspec": {
   "display_name": "Python 3",
   "language": "python",
   "name": "python3"
  },
  "language_info": {
   "codemirror_mode": {
    "name": "ipython",
    "version": 3
   },
   "file_extension": ".py",
   "mimetype": "text/x-python",
   "name": "python",
   "nbconvert_exporter": "python",
   "pygments_lexer": "ipython3",
   "version": "3.11.4"
  }
 },
 "nbformat": 4,
 "nbformat_minor": 2
}
