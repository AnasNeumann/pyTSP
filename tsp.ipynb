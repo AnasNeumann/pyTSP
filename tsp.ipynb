{
 "cells": [
  {
   "cell_type": "markdown",
   "metadata": {},
   "source": [
    "A simple Travelling Salesman Problem to solve (optimize) with IBM Cplex for learning purposes\n",
    "\n",
    "_\"Given a list of cities and the distances between each pair of cities, what is the shortest possible route that visits each city exactly once and returns to the origin city?\"_\n",
    "\n",
    "*(Wikipedia.org, 2023)* - https://en.wikipedia.org/wiki/Travelling_salesman_problem\n",
    "\n",
    "![problem-studied](./documentation/problem.png)"
   ]
  },
  {
   "cell_type": "markdown",
   "metadata": {},
   "source": [
    "# BEFORE CODING: INSTALL CPLEX AND SETUP YOUR PYTHON ENVIRONEMENT\n",
    "0. Make sure you have Python **3.7** or **3.8** installed (_Cplex currently do not support newer versions!_)\n",
    "1. Download Cplex from **IBM official website** and install it: https://www.ibm.com/products/ilog-cplex-optimization-studio/cplex-optimizer\n",
    "2. Go to the `CPLEX_HOME/cplex/python/3.8/x86-64_osx/cplex/` (_choose the right python version and OS platform here!_) sub-folder inside the Cplex install folder (`/Applications/CPLEX_Studio210` in MacOS) and run: `python setup.py install --home PATH_TO_PYTHON_PACKAGES/cplex` or `python3.8 setup.py install --home PATH_TO_PYTHON_PACKAGES/cplex` if you have several versions of python installed\n",
    "\n",
    "--> _for example:_ **PATH_TO_PYTHON_PACKAGES**=`/Library/Frameworks/Python.framework/Versions/3.8/lib/python3.8/site-packages`\n",
    "\n",
    "3. **Alternative:** Install cplex using `pip install cplex dcplex` or `pip3.8 install cplex dcplex` if you have several versions of cplex installed"
   ]
  },
  {
   "cell_type": "code",
   "execution_count": 30,
   "metadata": {},
   "outputs": [],
   "source": [
    "# 0.A IMPORT ALL USED LIBRARIES\n",
    "from random import randint\n",
    "import numpy as np\n",
    "#from docplex.mp.model import Model\n",
    "import cplex\n",
    "from cplex import Cplex"
   ]
  },
  {
   "cell_type": "code",
   "execution_count": 31,
   "metadata": {},
   "outputs": [],
   "source": [
    "# 0.B CONFIGURE THE PROBLEM\n",
    "NBR_CITIES = 5\n",
    "MIN_DISTANCE_BETWEEN_CITIES = 1\n",
    "MAX_DISTANCE_BETWEEN_CITIES = 15\n",
    "\n",
    "# 0.C CONFIGURE CPLEX\n",
    "COMPUTING_TIME_LIMIT = 300 #seconds\n",
    "MEMORY_LIMIT = 1024 #Gb\n",
    "NODE_LIMIT = 1000 #size of the branch&bound/cut decision tree\n",
    "MIP_TOLERANCE = 0 #%\n",
    "MAX_NBR_THREADS = 4"
   ]
  },
  {
   "cell_type": "code",
   "execution_count": 32,
   "metadata": {},
   "outputs": [
    {
     "name": "stdout",
     "output_type": "stream",
     "text": [
      "[[ 0 11  8 13 10]\n",
      " [11  0 14  7 12]\n",
      " [ 8 14  0  4  9]\n",
      " [13  7  4  0 10]\n",
      " [10 12  9 10  0]]\n",
      "1\n"
     ]
    }
   ],
   "source": [
    "# I. BUILD A RANDOM TSP INSTANCE \n",
    "def build_random_instance(nbr_cities=6, min_distance=1, max_distance=15):\n",
    "    start = randint(0, nbr_cities-1) # 1. random generate the starting city\n",
    "    distances = np.random.uniform(min_distance, max_distance, (nbr_cities, nbr_cities)).astype(int) # 2. random generate a matrix of (integer) paths between cities\n",
    "    distances = np.triu(distances, k=1)\n",
    "    distances += distances.T # 3. the distance between city a -> city b should be equal to the between city b -> city a\n",
    "    np.fill_diagonal(distances, 0) # 4. replace all distance for a city to itself (the diagonal) to 0 \n",
    "    return distances, start\n",
    "\n",
    "distances, start = build_random_instance(NBR_CITIES, MIN_DISTANCE_BETWEEN_CITIES, MAX_DISTANCE_BETWEEN_CITIES)\n",
    "print(distances)\n",
    "print(start)"
   ]
  },
  {
   "cell_type": "code",
   "execution_count": 36,
   "metadata": {},
   "outputs": [
    {
     "name": "stdout",
     "output_type": "stream",
     "text": [
      "['path_0_1', 'path_0_2', 'path_0_3', 'path_0_4', 'path_1_0', 'path_1_2', 'path_1_3', 'path_1_4', 'path_2_0', 'path_2_1', 'path_2_3', 'path_2_4', 'path_3_0', 'path_3_1', 'path_3_2', 'path_3_4', 'path_4_0', 'path_4_1', 'path_4_2', 'path_4_3']\n"
     ]
    }
   ],
   "source": [
    "# II. BUILD A CPLEX MODEL WITH DECISIONS VARIABLES, THE FIRST TWO CONSTRAINTS, AND A OBJECTIVE FUNCTION\n",
    "def build_model(distances, nbr_cities=6):\n",
    "    m = Cplex()\n",
    "\n",
    "    # 1. Create an array of variables with names and lower/upper bounds\n",
    "    names = [f\"path_{i}_{j}\" for i in range(nbr_cities) for j in range(nbr_cities) if j != i]\n",
    "    print(names)\n",
    "    types = [m.variables.type.binary] * len(names)\n",
    "    lb = [0] * len(names)\n",
    "    up = [1] * len(names)\n",
    "    m.variables.add(names=names, types=types, lb=lb, ub=up) \n",
    "\n",
    "    # 2. Create the min objective function\n",
    "    for i in range(nbr_cities-1):\n",
    "        for j in range(i+1, nbr_cities):\n",
    "            m.objective.set_linear(f\"path_{i}_{j}\", int(distances[i][j]))\n",
    "            m.objective.set_linear(f\"path_{j}_{i}\", int(distances[j][i]))\n",
    "    m.objective.set_sense(m.objective.sense.minimize)\n",
    "\n",
    "    # 3. Create the first two constraint: exactly on selected path FROM and TO each city\n",
    "    for i in range(nbr_cities):\n",
    "        paths_from_i = [f\"path_{i}_{j}\" for j in range(nbr_cities) if j != i]\n",
    "        paths_to_i = [f\"path_{j}_{i}\" for j in range(nbr_cities) if j != i]\n",
    "        m.linear_constraints.add(\n",
    "            lin_expr=[cplex.SparsePair(ind=paths_from_i, val=[1]*len(paths_from_i))], senses=['E'], rhs=[1])\n",
    "        m.linear_constraints.add(\n",
    "            lin_expr=[cplex.SparsePair(ind=paths_to_i, val=[1]*len(paths_from_i))], senses=['E'], rhs=[1])\n",
    "    \n",
    "    # 4. Apply the CPLEX runtime configuration\n",
    "    m.parameters.timelimit.set(COMPUTING_TIME_LIMIT)\n",
    "    m.parameters.workmem.set(MEMORY_LIMIT)\n",
    "    m.parameters.mip.limits.nodes.set(NODE_LIMIT)\n",
    "    m.parameters.mip.tolerances.mipgap.set(MIP_TOLERANCE)\n",
    "    m.parameters.threads.set(MAX_NBR_THREADS)\n",
    "    return m\n",
    "\n",
    "model = build_model(distances, NBR_CITIES)"
   ]
  },
  {
   "cell_type": "markdown",
   "metadata": {},
   "source": [
    "![calcul-of-subsets](./documentation/calcul.png)"
   ]
  },
  {
   "cell_type": "code",
   "execution_count": null,
   "metadata": {},
   "outputs": [],
   "source": [
    "# III. ..."
   ]
  }
 ],
 "metadata": {
  "kernelspec": {
   "display_name": "Python 3",
   "language": "python",
   "name": "python3"
  },
  "language_info": {
   "codemirror_mode": {
    "name": "ipython",
    "version": 3
   },
   "file_extension": ".py",
   "mimetype": "text/x-python",
   "name": "python",
   "nbconvert_exporter": "python",
   "pygments_lexer": "ipython3",
   "version": "3.8.5"
  }
 },
 "nbformat": 4,
 "nbformat_minor": 2
}
